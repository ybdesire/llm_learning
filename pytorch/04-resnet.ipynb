{
 "cells": [
  {
   "cell_type": "markdown",
   "id": "b168e3d6-8f9e-426f-b675-8d6bf8261912",
   "metadata": {},
   "source": [
    "# 1. load data"
   ]
  },
  {
   "cell_type": "code",
   "execution_count": 1,
   "id": "e79483a6-a7ca-4749-b07f-e8222bde6268",
   "metadata": {},
   "outputs": [
    {
     "name": "stdout",
     "output_type": "stream",
     "text": [
      "label_to_int={'c1': 0, 'c2': 1, 'c3': 2}\n",
      "int_to_label={0: 'c1', 1: 'c2', 2: 'c3'}\n"
     ]
    }
   ],
   "source": [
    "import cv2\n",
    "import os\n",
    "from tqdm import *\n",
    "import numpy \n",
    "\n",
    "\n",
    "data_root = 'data/'\n",
    "label_list = []\n",
    "label_to_image_path_list = {}\n",
    "label_to_int = {}\n",
    "int_to_label = {}\n",
    "\n",
    "# load meta data \n",
    "cnt = 0\n",
    "for f1 in os.listdir(data_root):\n",
    "    label = f1\n",
    "    label_to_int[label] = cnt\n",
    "    int_to_label[cnt] = label\n",
    "    cnt += 1\n",
    "    label_list.append(label)\n",
    "    f2 = os.path.join(data_root, f1)\n",
    "    label_to_image_path_list[label] = []\n",
    "    for f3 in os.listdir(f2):\n",
    "        f4 = os.path.join(f2, f3)\n",
    "        label_to_image_path_list[label].append(f4)\n",
    "\n",
    "print( 'label_to_int={0}'.format(label_to_int) )\n",
    "print( 'int_to_label={0}'.format(int_to_label) )\n"
   ]
  },
  {
   "cell_type": "code",
   "execution_count": 2,
   "id": "acd30167-7bd0-46d5-baf3-26fcb8693a51",
   "metadata": {},
   "outputs": [
    {
     "name": "stderr",
     "output_type": "stream",
     "text": [
      "100%|██████████████████████████████████████████████████████████████████████████████████| 5/5 [00:00<00:00, 1144.67it/s]\n",
      "100%|████████████████████████████████████████████████████████████████████████████████████████████| 5/5 [00:00<?, ?it/s]\n",
      "100%|████████████████████████████████████████████████████████████████████████████████████████████| 5/5 [00:00<?, ?it/s]"
     ]
    },
    {
     "name": "stdout",
     "output_type": "stream",
     "text": [
      "c1: loaded 5 images, shape=(50, 50, 3)\n",
      "c2: loaded 5 images, shape=(50, 50, 3)\n",
      "c3: loaded 5 images, shape=(50, 50, 3)\n"
     ]
    },
    {
     "name": "stderr",
     "output_type": "stream",
     "text": [
      "\n"
     ]
    }
   ],
   "source": [
    "# load image to color images\n",
    "label_to_image_arr_list = {}\n",
    "for label in label_to_image_path_list:\n",
    "    label_to_image_arr_list[label] = []\n",
    "    image_path_list = label_to_image_path_list[label]\n",
    "    for image_path in tqdm(image_path_list):\n",
    "        img = cv2.imread(image_path, cv2.IMREAD_COLOR)\n",
    "        label_to_image_arr_list[label].append(img)\n",
    "\n",
    "# print load status\n",
    "for label in label_to_image_arr_list:\n",
    "    print('{0}: loaded {1} images, shape={2}'.format(label, len(label_to_image_arr_list[label]), \n",
    "                                                    label_to_image_arr_list[label][0].shape))"
   ]
  },
  {
   "cell_type": "code",
   "execution_count": 3,
   "id": "b2f456f4-2cc4-4f31-95d5-89b325ada37e",
   "metadata": {},
   "outputs": [
    {
     "name": "stdout",
     "output_type": "stream",
     "text": [
      "x_data.shape=(15, 3, 50, 50), y_data.shape=(15,)\n"
     ]
    }
   ],
   "source": [
    "# images to x_data, y_data\n",
    "    \n",
    "x_data = []\n",
    "y_data = []\n",
    "for label in label_to_image_arr_list:\n",
    "    for img in label_to_image_arr_list[label]:\n",
    "        x_data.append( img )\n",
    "        y_data.append( label_to_int[label] )\n",
    "\n",
    "x_data = numpy.array(x_data)\n",
    "y_data = numpy.array(y_data)\n",
    "x_data = x_data.reshape( (len(x_data), 3, 50, 50) )\n",
    "print( 'x_data.shape={0}, y_data.shape={1}'.format(x_data.shape, y_data.shape) )\n"
   ]
  },
  {
   "cell_type": "markdown",
   "id": "04dc0638-525c-45b4-8fcd-ba774d29152e",
   "metadata": {},
   "source": [
    "# 2. model and train"
   ]
  },
  {
   "cell_type": "code",
   "execution_count": 4,
   "id": "193aea30-54fc-4ceb-847b-c145f0f6134b",
   "metadata": {},
   "outputs": [],
   "source": [
    "import torch\n",
    "from torch import nn\n",
    "from torch.utils.data import DataLoader\n",
    "from torchvision import datasets\n",
    "from torchvision.transforms import ToTensor\n",
    "from torchvision.models import resnet18\n",
    "import torchvision\n",
    "import numpy as np"
   ]
  },
  {
   "cell_type": "code",
   "execution_count": 5,
   "id": "c6f4448c-70cf-4d1b-b11f-954bbbbbe4ec",
   "metadata": {},
   "outputs": [
    {
     "name": "stdout",
     "output_type": "stream",
     "text": [
      "device is CPU\n"
     ]
    }
   ],
   "source": [
    "device = 'cpu'\n",
    "if torch.cuda.is_available():\n",
    "    device = 'cuda'\n",
    "    print('device is GPU')\n",
    "else:\n",
    "    print('device is CPU')"
   ]
  },
  {
   "cell_type": "code",
   "execution_count": 6,
   "id": "10d7d932-579a-4d89-ae03-1fbe47a183eb",
   "metadata": {},
   "outputs": [],
   "source": [
    "# create the model\n",
    "model = resnet18()\n",
    "model.fc = nn.Linear(512, 3)"
   ]
  },
  {
   "cell_type": "code",
   "execution_count": 7,
   "id": "0cd44083-e840-4347-9ca0-9a953b363fe9",
   "metadata": {},
   "outputs": [],
   "source": [
    "costfunc = nn.MultiMarginLoss()\n",
    "optimizer = torch.optim.Adam(model.parameters(), lr=0.01) # Adam as optimizer"
   ]
  },
  {
   "cell_type": "code",
   "execution_count": null,
   "id": "01db375a-ad20-48d3-b9d8-d6c38730fb28",
   "metadata": {},
   "outputs": [],
   "source": []
  },
  {
   "cell_type": "code",
   "execution_count": 8,
   "id": "468c4a95-44a3-4b30-a9f0-e7cbb6b38a60",
   "metadata": {},
   "outputs": [
    {
     "name": "stdout",
     "output_type": "stream",
     "text": [
      "x_train=(13, 3, 50, 50), x_test=(2, 3, 50, 50), y_train=(13,), y_test=(2,)\n"
     ]
    }
   ],
   "source": [
    "# data loader\n",
    "from sklearn.model_selection import train_test_split\n",
    "\n",
    "# train test split\n",
    "x_train, x_test, y_train, y_test = train_test_split( x_data, y_data, \n",
    "                                                    test_size=0.1, random_state=123 )\n",
    "# output \n",
    "print('x_train={0}, x_test={1}, y_train={2}, y_test={3}'.format(\n",
    "    x_train.shape, x_test.shape, y_train.shape, y_test.shape\n",
    ") )"
   ]
  },
  {
   "cell_type": "code",
   "execution_count": null,
   "id": "a64d7f3e-5e25-4b28-bd59-d4545e122ddc",
   "metadata": {},
   "outputs": [],
   "source": []
  },
  {
   "cell_type": "code",
   "execution_count": 9,
   "id": "edc860a4-e2b1-4954-857b-f988b1197e22",
   "metadata": {},
   "outputs": [],
   "source": [
    "# data to tensor\n",
    "x_train = torch.tensor(x_train, dtype=torch.float32).to(device)\n",
    "y_train = torch.tensor(y_train, dtype=torch.long).to(device)\n",
    "x_test = torch.tensor(x_test, dtype=torch.float32).to(device)\n",
    "y_test = torch.tensor(y_test, dtype=torch.long).to(device)"
   ]
  },
  {
   "cell_type": "code",
   "execution_count": 10,
   "id": "d4ce03b2-2c23-43d9-9c01-33d5473e5488",
   "metadata": {},
   "outputs": [
    {
     "data": {
      "text/plain": [
       "torch.Size([13, 3, 50, 50])"
      ]
     },
     "execution_count": 10,
     "metadata": {},
     "output_type": "execute_result"
    }
   ],
   "source": [
    "x_train.shape"
   ]
  },
  {
   "cell_type": "code",
   "execution_count": 11,
   "id": "f7556570-ca5d-4c73-82d2-3d4f054eb40e",
   "metadata": {},
   "outputs": [
    {
     "data": {
      "text/plain": [
       "ResNet(\n",
       "  (conv1): Conv2d(3, 64, kernel_size=(7, 7), stride=(2, 2), padding=(3, 3), bias=False)\n",
       "  (bn1): BatchNorm2d(64, eps=1e-05, momentum=0.1, affine=True, track_running_stats=True)\n",
       "  (relu): ReLU(inplace=True)\n",
       "  (maxpool): MaxPool2d(kernel_size=3, stride=2, padding=1, dilation=1, ceil_mode=False)\n",
       "  (layer1): Sequential(\n",
       "    (0): BasicBlock(\n",
       "      (conv1): Conv2d(64, 64, kernel_size=(3, 3), stride=(1, 1), padding=(1, 1), bias=False)\n",
       "      (bn1): BatchNorm2d(64, eps=1e-05, momentum=0.1, affine=True, track_running_stats=True)\n",
       "      (relu): ReLU(inplace=True)\n",
       "      (conv2): Conv2d(64, 64, kernel_size=(3, 3), stride=(1, 1), padding=(1, 1), bias=False)\n",
       "      (bn2): BatchNorm2d(64, eps=1e-05, momentum=0.1, affine=True, track_running_stats=True)\n",
       "    )\n",
       "    (1): BasicBlock(\n",
       "      (conv1): Conv2d(64, 64, kernel_size=(3, 3), stride=(1, 1), padding=(1, 1), bias=False)\n",
       "      (bn1): BatchNorm2d(64, eps=1e-05, momentum=0.1, affine=True, track_running_stats=True)\n",
       "      (relu): ReLU(inplace=True)\n",
       "      (conv2): Conv2d(64, 64, kernel_size=(3, 3), stride=(1, 1), padding=(1, 1), bias=False)\n",
       "      (bn2): BatchNorm2d(64, eps=1e-05, momentum=0.1, affine=True, track_running_stats=True)\n",
       "    )\n",
       "  )\n",
       "  (layer2): Sequential(\n",
       "    (0): BasicBlock(\n",
       "      (conv1): Conv2d(64, 128, kernel_size=(3, 3), stride=(2, 2), padding=(1, 1), bias=False)\n",
       "      (bn1): BatchNorm2d(128, eps=1e-05, momentum=0.1, affine=True, track_running_stats=True)\n",
       "      (relu): ReLU(inplace=True)\n",
       "      (conv2): Conv2d(128, 128, kernel_size=(3, 3), stride=(1, 1), padding=(1, 1), bias=False)\n",
       "      (bn2): BatchNorm2d(128, eps=1e-05, momentum=0.1, affine=True, track_running_stats=True)\n",
       "      (downsample): Sequential(\n",
       "        (0): Conv2d(64, 128, kernel_size=(1, 1), stride=(2, 2), bias=False)\n",
       "        (1): BatchNorm2d(128, eps=1e-05, momentum=0.1, affine=True, track_running_stats=True)\n",
       "      )\n",
       "    )\n",
       "    (1): BasicBlock(\n",
       "      (conv1): Conv2d(128, 128, kernel_size=(3, 3), stride=(1, 1), padding=(1, 1), bias=False)\n",
       "      (bn1): BatchNorm2d(128, eps=1e-05, momentum=0.1, affine=True, track_running_stats=True)\n",
       "      (relu): ReLU(inplace=True)\n",
       "      (conv2): Conv2d(128, 128, kernel_size=(3, 3), stride=(1, 1), padding=(1, 1), bias=False)\n",
       "      (bn2): BatchNorm2d(128, eps=1e-05, momentum=0.1, affine=True, track_running_stats=True)\n",
       "    )\n",
       "  )\n",
       "  (layer3): Sequential(\n",
       "    (0): BasicBlock(\n",
       "      (conv1): Conv2d(128, 256, kernel_size=(3, 3), stride=(2, 2), padding=(1, 1), bias=False)\n",
       "      (bn1): BatchNorm2d(256, eps=1e-05, momentum=0.1, affine=True, track_running_stats=True)\n",
       "      (relu): ReLU(inplace=True)\n",
       "      (conv2): Conv2d(256, 256, kernel_size=(3, 3), stride=(1, 1), padding=(1, 1), bias=False)\n",
       "      (bn2): BatchNorm2d(256, eps=1e-05, momentum=0.1, affine=True, track_running_stats=True)\n",
       "      (downsample): Sequential(\n",
       "        (0): Conv2d(128, 256, kernel_size=(1, 1), stride=(2, 2), bias=False)\n",
       "        (1): BatchNorm2d(256, eps=1e-05, momentum=0.1, affine=True, track_running_stats=True)\n",
       "      )\n",
       "    )\n",
       "    (1): BasicBlock(\n",
       "      (conv1): Conv2d(256, 256, kernel_size=(3, 3), stride=(1, 1), padding=(1, 1), bias=False)\n",
       "      (bn1): BatchNorm2d(256, eps=1e-05, momentum=0.1, affine=True, track_running_stats=True)\n",
       "      (relu): ReLU(inplace=True)\n",
       "      (conv2): Conv2d(256, 256, kernel_size=(3, 3), stride=(1, 1), padding=(1, 1), bias=False)\n",
       "      (bn2): BatchNorm2d(256, eps=1e-05, momentum=0.1, affine=True, track_running_stats=True)\n",
       "    )\n",
       "  )\n",
       "  (layer4): Sequential(\n",
       "    (0): BasicBlock(\n",
       "      (conv1): Conv2d(256, 512, kernel_size=(3, 3), stride=(2, 2), padding=(1, 1), bias=False)\n",
       "      (bn1): BatchNorm2d(512, eps=1e-05, momentum=0.1, affine=True, track_running_stats=True)\n",
       "      (relu): ReLU(inplace=True)\n",
       "      (conv2): Conv2d(512, 512, kernel_size=(3, 3), stride=(1, 1), padding=(1, 1), bias=False)\n",
       "      (bn2): BatchNorm2d(512, eps=1e-05, momentum=0.1, affine=True, track_running_stats=True)\n",
       "      (downsample): Sequential(\n",
       "        (0): Conv2d(256, 512, kernel_size=(1, 1), stride=(2, 2), bias=False)\n",
       "        (1): BatchNorm2d(512, eps=1e-05, momentum=0.1, affine=True, track_running_stats=True)\n",
       "      )\n",
       "    )\n",
       "    (1): BasicBlock(\n",
       "      (conv1): Conv2d(512, 512, kernel_size=(3, 3), stride=(1, 1), padding=(1, 1), bias=False)\n",
       "      (bn1): BatchNorm2d(512, eps=1e-05, momentum=0.1, affine=True, track_running_stats=True)\n",
       "      (relu): ReLU(inplace=True)\n",
       "      (conv2): Conv2d(512, 512, kernel_size=(3, 3), stride=(1, 1), padding=(1, 1), bias=False)\n",
       "      (bn2): BatchNorm2d(512, eps=1e-05, momentum=0.1, affine=True, track_running_stats=True)\n",
       "    )\n",
       "  )\n",
       "  (avgpool): AdaptiveAvgPool2d(output_size=(1, 1))\n",
       "  (fc): Linear(in_features=512, out_features=3, bias=True)\n",
       ")"
      ]
     },
     "execution_count": 11,
     "metadata": {},
     "output_type": "execute_result"
    }
   ],
   "source": [
    "model"
   ]
  },
  {
   "cell_type": "code",
   "execution_count": 12,
   "id": "1e8b95dc-d3ba-484b-991b-7fccf232d414",
   "metadata": {},
   "outputs": [
    {
     "name": "stdout",
     "output_type": "stream",
     "text": [
      "tensor(36984.4414, grad_fn=<MultiMarginLossBackward0>)\n",
      "tensor(681435., grad_fn=<MultiMarginLossBackward0>)\n",
      "tensor(373883.7812, grad_fn=<MultiMarginLossBackward0>)\n",
      "tensor(250862.9531, grad_fn=<MultiMarginLossBackward0>)\n",
      "tensor(184401.0625, grad_fn=<MultiMarginLossBackward0>)\n",
      "tensor(116544.8359, grad_fn=<MultiMarginLossBackward0>)\n",
      "tensor(71547.8125, grad_fn=<MultiMarginLossBackward0>)\n",
      "tensor(39440.7539, grad_fn=<MultiMarginLossBackward0>)\n",
      "tensor(22168.2910, grad_fn=<MultiMarginLossBackward0>)\n",
      "tensor(13848.6396, grad_fn=<MultiMarginLossBackward0>)\n"
     ]
    }
   ],
   "source": [
    "for epoch in range(10):\n",
    "    # Train\n",
    "    model.train()\n",
    "    # predict\n",
    "    y_pred = model(x_train)\n",
    "    # calculate loss\n",
    "    loss = costfunc(y_pred, y_train)\n",
    "    # gradient decent\n",
    "    optimizer.zero_grad()\n",
    "    loss.backward()\n",
    "    # weights update\n",
    "    optimizer.step()\n",
    "    \n",
    "    # Validation\n",
    "    model.eval()\n",
    "    y_test_pred = model(x_test)\n",
    "    loss_test = costfunc(y_test_pred, y_test)\n",
    "    print(loss_test)\n",
    "    yhat = y_test_pred.detach().numpy()\n",
    "    # round to class values\n",
    "    yhat = yhat.round()\n",
    "    yhat = np.argmax(yhat, axis=1)"
   ]
  },
  {
   "cell_type": "code",
   "execution_count": 18,
   "id": "da08467f-1215-43ad-9a21-418a1e18dda4",
   "metadata": {},
   "outputs": [
    {
     "data": {
      "text/plain": [
       "(array([2, 2], dtype=int64), tensor([1, 2]))"
      ]
     },
     "execution_count": 18,
     "metadata": {},
     "output_type": "execute_result"
    }
   ],
   "source": [
    "yhat, y_test"
   ]
  },
  {
   "cell_type": "code",
   "execution_count": null,
   "id": "0906f41a-6dfb-47ca-b578-3c2e02ed9651",
   "metadata": {},
   "outputs": [],
   "source": []
  }
 ],
 "metadata": {
  "kernelspec": {
   "display_name": "Python 3 (ipykernel)",
   "language": "python",
   "name": "python3"
  },
  "language_info": {
   "codemirror_mode": {
    "name": "ipython",
    "version": 3
   },
   "file_extension": ".py",
   "mimetype": "text/x-python",
   "name": "python",
   "nbconvert_exporter": "python",
   "pygments_lexer": "ipython3",
   "version": "3.12.3"
  }
 },
 "nbformat": 4,
 "nbformat_minor": 5
}
