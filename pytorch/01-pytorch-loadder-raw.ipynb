{
 "cells": [
  {
   "cell_type": "code",
   "execution_count": 4,
   "id": "645560a9-0d67-4510-953c-c38c716ce136",
   "metadata": {},
   "outputs": [
    {
     "name": "stdout",
     "output_type": "stream",
     "text": [
      "tensor([2, 2, 2, 0, 1, 1, 2, 1, 1, 0, 2, 1, 0, 0, 0])\n",
      "torch.Size([15, 3, 224, 224])\n"
     ]
    }
   ],
   "source": [
    "from torchvision import transforms, datasets\n",
    "import torch\n",
    "\n",
    "# specify the image dataset folder\n",
    "data_dir = r'data'\n",
    " \n",
    "# perform some transformations like resizing,\n",
    "# centering and tensorconversion\n",
    "# using transforms function\n",
    "transform = transforms.Compose(\n",
    "    [transforms.Resize(255),\n",
    "     transforms.CenterCrop(224),\n",
    "     transforms.ToTensor()])\n",
    " \n",
    "# pass the image data folder and\n",
    "# transform function to the datasets\n",
    "# .imagefolder function\n",
    "dataset = datasets.ImageFolder(data_dir, \n",
    "                               transform=transform)\n",
    " \n",
    "# now use dataloder function load the\n",
    "# dataset in the specified transformation.\n",
    "dataloader = torch.utils.data.DataLoader(dataset,\n",
    "                                         batch_size=32,\n",
    "                                         shuffle=True)\n",
    " \n",
    "# iter function iterates through all the\n",
    "# images and labels and stores in two variables\n",
    "images, labels = next(iter(dataloader))\n",
    "print(labels)\n",
    "print(images.shape)"
   ]
  },
  {
   "cell_type": "code",
   "execution_count": 9,
   "id": "5df4fcf8-9105-41ee-a2d8-c44f4d644ab3",
   "metadata": {},
   "outputs": [
    {
     "data": {
      "text/plain": [
       "[0, 0, 0, 0, 0, 1, 1, 1, 1, 1, 2, 2, 2, 2, 2]"
      ]
     },
     "execution_count": 9,
     "metadata": {},
     "output_type": "execute_result"
    }
   ],
   "source": [
    "dataloader.dataset.targets"
   ]
  },
  {
   "cell_type": "code",
   "execution_count": 10,
   "id": "fd484429-aed5-4378-ae31-142f8959ad42",
   "metadata": {},
   "outputs": [
    {
     "data": {
      "text/plain": [
       "['c1', 'c2', 'c3']"
      ]
     },
     "execution_count": 10,
     "metadata": {},
     "output_type": "execute_result"
    }
   ],
   "source": [
    "dataloader.dataset.classes"
   ]
  },
  {
   "cell_type": "code",
   "execution_count": 13,
   "id": "f4cd672a-4668-4131-acb5-55ec6877f825",
   "metadata": {},
   "outputs": [
    {
     "data": {
      "text/plain": [
       "[('data\\\\c1\\\\1.png', 0),\n",
       " ('data\\\\c1\\\\2.png', 0),\n",
       " ('data\\\\c1\\\\3.png', 0),\n",
       " ('data\\\\c1\\\\4.png', 0),\n",
       " ('data\\\\c1\\\\5.png', 0),\n",
       " ('data\\\\c2\\\\1.png', 1),\n",
       " ('data\\\\c2\\\\2.png', 1),\n",
       " ('data\\\\c2\\\\3.png', 1),\n",
       " ('data\\\\c2\\\\4.png', 1),\n",
       " ('data\\\\c2\\\\5.png', 1),\n",
       " ('data\\\\c3\\\\1.png', 2),\n",
       " ('data\\\\c3\\\\2.png', 2),\n",
       " ('data\\\\c3\\\\3.png', 2),\n",
       " ('data\\\\c3\\\\4.png', 2),\n",
       " ('data\\\\c3\\\\5.png', 2)]"
      ]
     },
     "execution_count": 13,
     "metadata": {},
     "output_type": "execute_result"
    }
   ],
   "source": [
    "dataloader.dataset.samples"
   ]
  },
  {
   "cell_type": "code",
   "execution_count": 11,
   "id": "a1b2034f-faa0-4068-a483-9c8dfc5f8d29",
   "metadata": {},
   "outputs": [
    {
     "data": {
      "text/plain": [
       "[('data\\\\c1\\\\1.png', 0),\n",
       " ('data\\\\c1\\\\2.png', 0),\n",
       " ('data\\\\c1\\\\3.png', 0),\n",
       " ('data\\\\c1\\\\4.png', 0),\n",
       " ('data\\\\c1\\\\5.png', 0),\n",
       " ('data\\\\c2\\\\1.png', 1),\n",
       " ('data\\\\c2\\\\2.png', 1),\n",
       " ('data\\\\c2\\\\3.png', 1),\n",
       " ('data\\\\c2\\\\4.png', 1),\n",
       " ('data\\\\c2\\\\5.png', 1),\n",
       " ('data\\\\c3\\\\1.png', 2),\n",
       " ('data\\\\c3\\\\2.png', 2),\n",
       " ('data\\\\c3\\\\3.png', 2),\n",
       " ('data\\\\c3\\\\4.png', 2),\n",
       " ('data\\\\c3\\\\5.png', 2)]"
      ]
     },
     "execution_count": 11,
     "metadata": {},
     "output_type": "execute_result"
    }
   ],
   "source": [
    "dataloader.dataset.imgs"
   ]
  },
  {
   "cell_type": "code",
   "execution_count": 14,
   "id": "6aaaabf5-8b17-46e8-9a7c-075b0466e198",
   "metadata": {},
   "outputs": [
    {
     "name": "stdout",
     "output_type": "stream",
     "text": [
      "0\n"
     ]
    }
   ],
   "source": [
    "for i, (inputs, targets) in enumerate(dataloader):\n",
    "    print(i)"
   ]
  },
  {
   "cell_type": "code",
   "execution_count": null,
   "id": "51f3eeee-f4b1-4e18-ac86-63ec898eb637",
   "metadata": {},
   "outputs": [],
   "source": []
  },
  {
   "cell_type": "code",
   "execution_count": null,
   "id": "cc8e49d9-7d50-4ff7-bc5c-9f6b696228f6",
   "metadata": {},
   "outputs": [],
   "source": []
  },
  {
   "cell_type": "code",
   "execution_count": null,
   "id": "af6e334a-12e9-426e-9891-06f684d76195",
   "metadata": {},
   "outputs": [],
   "source": []
  },
  {
   "cell_type": "code",
   "execution_count": null,
   "id": "94f37382-7de2-4855-8716-fc265b818b75",
   "metadata": {},
   "outputs": [],
   "source": []
  },
  {
   "cell_type": "code",
   "execution_count": null,
   "id": "1b15e341-bbce-4b3c-9654-e2bc1cb9aac2",
   "metadata": {},
   "outputs": [],
   "source": []
  }
 ],
 "metadata": {
  "kernelspec": {
   "display_name": "Python 3 (ipykernel)",
   "language": "python",
   "name": "python3"
  },
  "language_info": {
   "codemirror_mode": {
    "name": "ipython",
    "version": 3
   },
   "file_extension": ".py",
   "mimetype": "text/x-python",
   "name": "python",
   "nbconvert_exporter": "python",
   "pygments_lexer": "ipython3",
   "version": "3.12.3"
  }
 },
 "nbformat": 4,
 "nbformat_minor": 5
}
