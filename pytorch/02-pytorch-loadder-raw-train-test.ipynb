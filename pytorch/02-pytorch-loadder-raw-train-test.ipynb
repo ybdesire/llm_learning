{
 "cells": [
  {
   "cell_type": "code",
   "execution_count": 7,
   "id": "645560a9-0d67-4510-953c-c38c716ce136",
   "metadata": {},
   "outputs": [
    {
     "name": "stdout",
     "output_type": "stream",
     "text": [
      "tensor([1, 0, 1, 1, 2, 2, 2, 1, 2, 0, 0, 2, 0, 0, 1])\n",
      "torch.Size([15, 3, 224, 224])\n"
     ]
    }
   ],
   "source": [
    "from torchvision import transforms, datasets\n",
    "import torch\n",
    "from torch.utils.data import DataLoader\n",
    "\n",
    "# specify the image dataset folder\n",
    "data_dir = r'data'\n",
    " \n",
    "# perform some transformations like resizing,\n",
    "# centering and tensorconversion\n",
    "# using transforms function\n",
    "transform = transforms.Compose(\n",
    "    [transforms.Resize(255),\n",
    "     transforms.CenterCrop(224),\n",
    "     transforms.ToTensor()])\n",
    " \n",
    "# pass the image data folder and\n",
    "# transform function to the datasets\n",
    "# .imagefolder function\n",
    "dataset = datasets.ImageFolder(data_dir, \n",
    "                               transform=transform)\n",
    " \n",
    "# now use dataloder function load the\n",
    "# dataset in the specified transformation.\n",
    "dataloader = torch.utils.data.DataLoader(dataset,\n",
    "                                         batch_size=32,\n",
    "                                         shuffle=True)\n",
    " \n",
    "# iter function iterates through all the\n",
    "# images and labels and stores in two variables\n",
    "images, labels = next(iter(dataloader))\n",
    "print(labels)\n",
    "print(images.shape)"
   ]
  },
  {
   "cell_type": "code",
   "execution_count": 11,
   "id": "fd484429-aed5-4378-ae31-142f8959ad42",
   "metadata": {},
   "outputs": [
    {
     "data": {
      "text/plain": [
       "15"
      ]
     },
     "execution_count": 11,
     "metadata": {},
     "output_type": "execute_result"
    }
   ],
   "source": [
    "len(dataloader.dataset)"
   ]
  },
  {
   "cell_type": "code",
   "execution_count": 16,
   "id": "b6562bb1-bb40-4bf3-b57e-ff8e1277768a",
   "metadata": {},
   "outputs": [],
   "source": [
    "train_size = int(0.8 * len(dataloader.dataset))\n",
    "valid_size = len(dataloader.dataset) - train_size\n",
    "train_dataset, valid_dataset = torch.utils.data.random_split(dataloader.dataset, [train_size, valid_size])\n",
    "train_dataloader = DataLoader(train_dataset, batch_size=2, shuffle=True, num_workers=4)\n",
    "valid_dataloader = DataLoader(valid_dataset, batch_size=2, shuffle=True, num_workers=4)"
   ]
  },
  {
   "cell_type": "code",
   "execution_count": null,
   "id": "9d3e47d1-ab9c-4817-8071-0062760dae18",
   "metadata": {},
   "outputs": [],
   "source": []
  },
  {
   "cell_type": "code",
   "execution_count": 9,
   "id": "a1b2034f-faa0-4068-a483-9c8dfc5f8d29",
   "metadata": {},
   "outputs": [
    {
     "name": "stdout",
     "output_type": "stream",
     "text": [
      "7 1\n",
      "7 1\n",
      "7 1\n",
      "7 1\n",
      "7 1\n",
      "7 1\n",
      "7 1\n",
      "7 1\n",
      "7 1\n",
      "7 1\n"
     ]
    }
   ],
   "source": [
    "from sklearn.model_selection import KFold\n",
    " \n",
    "kf = KFold(n_splits=10, shuffle=True, random_state=0)\n",
    "\n",
    "data = dataloader\n",
    "\n",
    "epoch = 1\n",
    "for train_index, val_index in kf.split(data.dataset.targets):\n",
    "    train_fold = torch.utils.data.dataset.Subset(data, train_index)\n",
    "    val_fold = torch.utils.data.dataset.Subset(data, val_index)    \n",
    "    bs =2 \n",
    "    train_loader = DataLoader(dataset=train_fold, batch_size=bs, shuffle=True)\n",
    "    val_loader = DataLoader(dataset=val_fold, batch_size=bs, shuffle=True)\n",
    "    train_size = len(train_loader)\n",
    "    val_size = len(val_loader)\n",
    "    print(train_size, val_size)\n"
   ]
  }
 ],
 "metadata": {
  "kernelspec": {
   "display_name": "Python 3 (ipykernel)",
   "language": "python",
   "name": "python3"
  },
  "language_info": {
   "codemirror_mode": {
    "name": "ipython",
    "version": 3
   },
   "file_extension": ".py",
   "mimetype": "text/x-python",
   "name": "python",
   "nbconvert_exporter": "python",
   "pygments_lexer": "ipython3",
   "version": "3.12.3"
  }
 },
 "nbformat": 4,
 "nbformat_minor": 5
}
